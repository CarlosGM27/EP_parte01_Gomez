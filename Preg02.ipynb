{
 "cells": [
  {
   "cell_type": "code",
   "execution_count": 1,
   "id": "1332caab",
   "metadata": {},
   "outputs": [
    {
     "name": "stdout",
     "output_type": "stream",
     "text": [
      "Ingrese el numero 15\n",
      "Ingrese el numero 20\n",
      "Ingrese el numero 5\n",
      "(5, 15, 20)\n"
     ]
    }
   ],
   "source": [
    "a = int(input(\"Ingrese el numero \"))\n",
    "b = int(input(\"Ingrese el numero \"))\n",
    "c = int(input(\"Ingrese el numero \"))\n",
    "\n",
    "# Comparaciones utilizando condicionales\n",
    "if a <= b and a <= c:\n",
    "    menor = a\n",
    "    if b <= c:\n",
    "        medio = b\n",
    "        mayor = c\n",
    "    else:\n",
    "        medio = c\n",
    "        mayor = b\n",
    "elif b <= a and b <= c:\n",
    "    menor = b\n",
    "    if a <= c:\n",
    "        medio = a\n",
    "        mayor = c\n",
    "    else:\n",
    "        medio = c\n",
    "        mayor = a\n",
    "else:\n",
    "    menor = c\n",
    "    if a <= b:\n",
    "        medio = a\n",
    "        mayor = b\n",
    "    else:\n",
    "        medio = b\n",
    "        mayor = a\n",
    "\n",
    "numeros_ordenados = menor, medio, mayor\n",
    "\n",
    "print(numeros_ordenados)"
   ]
  },
  {
   "cell_type": "code",
   "execution_count": null,
   "id": "21a12c36",
   "metadata": {},
   "outputs": [],
   "source": []
  }
 ],
 "metadata": {
  "kernelspec": {
   "display_name": "Python 3 (ipykernel)",
   "language": "python",
   "name": "python3"
  },
  "language_info": {
   "codemirror_mode": {
    "name": "ipython",
    "version": 3
   },
   "file_extension": ".py",
   "mimetype": "text/x-python",
   "name": "python",
   "nbconvert_exporter": "python",
   "pygments_lexer": "ipython3",
   "version": "3.9.12"
  }
 },
 "nbformat": 4,
 "nbformat_minor": 5
}
