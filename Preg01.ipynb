{
 "cells": [
  {
   "cell_type": "code",
   "execution_count": 3,
   "id": "9f7fb853",
   "metadata": {},
   "outputs": [
    {
     "name": "stdout",
     "output_type": "stream",
     "text": [
      "Ingrese el número de horas que ha estado estacionado: 8\n",
      "El importe a pagar es: 14 soles\n"
     ]
    }
   ],
   "source": [
    "horas_estacionado = int(input(\"Ingrese el número de horas que ha estado estacionado: \"))\n",
    "\n",
    "if horas_estacionado <= 4:\n",
    "    importe = 6\n",
    "else:\n",
    "    importe = 6 + (horas_estacionado - 4) * 2\n",
    "\n",
    "print(\"El importe a pagar es:\", importe, \"soles\")"
   ]
  }
 ],
 "metadata": {
  "kernelspec": {
   "display_name": "Python 3 (ipykernel)",
   "language": "python",
   "name": "python3"
  },
  "language_info": {
   "codemirror_mode": {
    "name": "ipython",
    "version": 3
   },
   "file_extension": ".py",
   "mimetype": "text/x-python",
   "name": "python",
   "nbconvert_exporter": "python",
   "pygments_lexer": "ipython3",
   "version": "3.9.12"
  }
 },
 "nbformat": 4,
 "nbformat_minor": 5
}
